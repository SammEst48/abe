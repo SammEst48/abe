{
 "cells": [
  {
   "cell_type": "markdown",
   "metadata": {},
   "source": [
    "### Preparación de los datos para el análisis."
   ]
  },
  {
   "cell_type": "markdown",
   "metadata": {},
   "source": [
    "#### Importar librerías."
   ]
  },
  {
   "cell_type": "code",
   "execution_count": 1,
   "metadata": {},
   "outputs": [],
   "source": [
    "import pandas as pd\n",
    "import matplotlib.pyplot as plt\n",
    "from scipy import stats as st\n",
    "import numpy as np\n",
    "import math as mth"
   ]
  },
  {
   "cell_type": "markdown",
   "metadata": {},
   "source": [
    "#### Cargar datos."
   ]
  },
  {
   "cell_type": "code",
   "execution_count": 2,
   "metadata": {},
   "outputs": [
    {
     "data": {
      "text/html": [
       "<div>\n",
       "<style scoped>\n",
       "    .dataframe tbody tr th:only-of-type {\n",
       "        vertical-align: middle;\n",
       "    }\n",
       "\n",
       "    .dataframe tbody tr th {\n",
       "        vertical-align: top;\n",
       "    }\n",
       "\n",
       "    .dataframe thead th {\n",
       "        text-align: right;\n",
       "    }\n",
       "</style>\n",
       "<table border=\"1\" class=\"dataframe\">\n",
       "  <thead>\n",
       "    <tr style=\"text-align: right;\">\n",
       "      <th></th>\n",
       "      <th>EventName</th>\n",
       "      <th>DeviceIDHash</th>\n",
       "      <th>EventTimestamp</th>\n",
       "      <th>ExpId</th>\n",
       "    </tr>\n",
       "  </thead>\n",
       "  <tbody>\n",
       "    <tr>\n",
       "      <th>0</th>\n",
       "      <td>MainScreenAppear</td>\n",
       "      <td>4575588528974610257</td>\n",
       "      <td>1564029816</td>\n",
       "      <td>246</td>\n",
       "    </tr>\n",
       "    <tr>\n",
       "      <th>1</th>\n",
       "      <td>MainScreenAppear</td>\n",
       "      <td>7416695313311560658</td>\n",
       "      <td>1564053102</td>\n",
       "      <td>246</td>\n",
       "    </tr>\n",
       "    <tr>\n",
       "      <th>2</th>\n",
       "      <td>PaymentScreenSuccessful</td>\n",
       "      <td>3518123091307005509</td>\n",
       "      <td>1564054127</td>\n",
       "      <td>248</td>\n",
       "    </tr>\n",
       "    <tr>\n",
       "      <th>3</th>\n",
       "      <td>CartScreenAppear</td>\n",
       "      <td>3518123091307005509</td>\n",
       "      <td>1564054127</td>\n",
       "      <td>248</td>\n",
       "    </tr>\n",
       "    <tr>\n",
       "      <th>4</th>\n",
       "      <td>PaymentScreenSuccessful</td>\n",
       "      <td>6217807653094995999</td>\n",
       "      <td>1564055322</td>\n",
       "      <td>248</td>\n",
       "    </tr>\n",
       "  </tbody>\n",
       "</table>\n",
       "</div>"
      ],
      "text/plain": [
       "                 EventName         DeviceIDHash  EventTimestamp  ExpId\n",
       "0         MainScreenAppear  4575588528974610257      1564029816    246\n",
       "1         MainScreenAppear  7416695313311560658      1564053102    246\n",
       "2  PaymentScreenSuccessful  3518123091307005509      1564054127    248\n",
       "3         CartScreenAppear  3518123091307005509      1564054127    248\n",
       "4  PaymentScreenSuccessful  6217807653094995999      1564055322    248"
      ]
     },
     "execution_count": 2,
     "metadata": {},
     "output_type": "execute_result"
    }
   ],
   "source": [
    "data = pd.read_csv('/datasets/logs_exp_us.csv', sep='\\t')\n",
    "data.head()"
   ]
  },
  {
   "cell_type": "markdown",
   "metadata": {},
   "source": [
    "#### Optimizar datos."
   ]
  },
  {
   "cell_type": "code",
   "execution_count": 3,
   "metadata": {},
   "outputs": [
    {
     "name": "stdout",
     "output_type": "stream",
     "text": [
      "<class 'pandas.core.frame.DataFrame'>\n",
      "RangeIndex: 244126 entries, 0 to 244125\n",
      "Data columns (total 4 columns):\n",
      " #   Column      Non-Null Count   Dtype \n",
      "---  ------      --------------   ----- \n",
      " 0   event       244126 non-null  object\n",
      " 1   user_id     244126 non-null  int64 \n",
      " 2   event_time  244126 non-null  int64 \n",
      " 3   exp_id      244126 non-null  int64 \n",
      "dtypes: int64(3), object(1)\n",
      "memory usage: 7.5+ MB\n"
     ]
    }
   ],
   "source": [
    "#Cambiar el nombre de las columnas.\n",
    "data = data.rename(columns={\n",
    "    'EventName': 'event',\n",
    "    'DeviceIDHash': 'user_id',\n",
    "    'EventTimestamp': 'event_time',\n",
    "    'ExpId': 'exp_id'\n",
    "})\n",
    "data.info()"
   ]
  },
  {
   "cell_type": "code",
   "execution_count": 4,
   "metadata": {},
   "outputs": [
    {
     "name": "stdout",
     "output_type": "stream",
     "text": [
      "event         0\n",
      "user_id       0\n",
      "event_time    0\n",
      "exp_id        0\n",
      "dtype: int64\n"
     ]
    }
   ],
   "source": [
    "#Comprobar si hay tipos de datos y valores ausentes.\n",
    "data_nan = data.isnull().sum()\n",
    "print(data_nan)"
   ]
  },
  {
   "cell_type": "code",
   "execution_count": 5,
   "metadata": {},
   "outputs": [
    {
     "name": "stdout",
     "output_type": "stream",
     "text": [
      "<class 'pandas.core.frame.DataFrame'>\n",
      "RangeIndex: 244126 entries, 0 to 244125\n",
      "Data columns (total 5 columns):\n",
      " #   Column      Non-Null Count   Dtype         \n",
      "---  ------      --------------   -----         \n",
      " 0   event       244126 non-null  object        \n",
      " 1   user_id     244126 non-null  int64         \n",
      " 2   event_time  244126 non-null  datetime64[ns]\n",
      " 3   exp_id      244126 non-null  int64         \n",
      " 4   date        244126 non-null  datetime64[ns]\n",
      "dtypes: datetime64[ns](2), int64(2), object(1)\n",
      "memory usage: 9.3+ MB\n"
     ]
    }
   ],
   "source": [
    "#Agrega una columna de fecha y hora y una columna separada para las fechas.\n",
    "data['event_time'] = pd.to_datetime(data['event_time'], unit='s')\n",
    "data['date'] = data['event_time'].dt.date.astype('datetime64[ns]')\n",
    "data.info()"
   ]
  },
  {
   "cell_type": "code",
   "execution_count": 6,
   "metadata": {},
   "outputs": [
    {
     "data": {
      "text/html": [
       "<div>\n",
       "<style scoped>\n",
       "    .dataframe tbody tr th:only-of-type {\n",
       "        vertical-align: middle;\n",
       "    }\n",
       "\n",
       "    .dataframe tbody tr th {\n",
       "        vertical-align: top;\n",
       "    }\n",
       "\n",
       "    .dataframe thead th {\n",
       "        text-align: right;\n",
       "    }\n",
       "</style>\n",
       "<table border=\"1\" class=\"dataframe\">\n",
       "  <thead>\n",
       "    <tr style=\"text-align: right;\">\n",
       "      <th></th>\n",
       "      <th>event</th>\n",
       "      <th>user_id</th>\n",
       "      <th>event_time</th>\n",
       "      <th>exp_id</th>\n",
       "      <th>date</th>\n",
       "    </tr>\n",
       "  </thead>\n",
       "  <tbody>\n",
       "    <tr>\n",
       "      <th>0</th>\n",
       "      <td>MainScreenAppear</td>\n",
       "      <td>4575588528974610257</td>\n",
       "      <td>2019-07-25 04:43:36</td>\n",
       "      <td>246</td>\n",
       "      <td>2019-07-25</td>\n",
       "    </tr>\n",
       "    <tr>\n",
       "      <th>1</th>\n",
       "      <td>MainScreenAppear</td>\n",
       "      <td>7416695313311560658</td>\n",
       "      <td>2019-07-25 11:11:42</td>\n",
       "      <td>246</td>\n",
       "      <td>2019-07-25</td>\n",
       "    </tr>\n",
       "    <tr>\n",
       "      <th>2</th>\n",
       "      <td>PaymentScreenSuccessful</td>\n",
       "      <td>3518123091307005509</td>\n",
       "      <td>2019-07-25 11:28:47</td>\n",
       "      <td>248</td>\n",
       "      <td>2019-07-25</td>\n",
       "    </tr>\n",
       "    <tr>\n",
       "      <th>3</th>\n",
       "      <td>CartScreenAppear</td>\n",
       "      <td>3518123091307005509</td>\n",
       "      <td>2019-07-25 11:28:47</td>\n",
       "      <td>248</td>\n",
       "      <td>2019-07-25</td>\n",
       "    </tr>\n",
       "    <tr>\n",
       "      <th>4</th>\n",
       "      <td>PaymentScreenSuccessful</td>\n",
       "      <td>6217807653094995999</td>\n",
       "      <td>2019-07-25 11:48:42</td>\n",
       "      <td>248</td>\n",
       "      <td>2019-07-25</td>\n",
       "    </tr>\n",
       "  </tbody>\n",
       "</table>\n",
       "</div>"
      ],
      "text/plain": [
       "                     event              user_id          event_time  exp_id  \\\n",
       "0         MainScreenAppear  4575588528974610257 2019-07-25 04:43:36     246   \n",
       "1         MainScreenAppear  7416695313311560658 2019-07-25 11:11:42     246   \n",
       "2  PaymentScreenSuccessful  3518123091307005509 2019-07-25 11:28:47     248   \n",
       "3         CartScreenAppear  3518123091307005509 2019-07-25 11:28:47     248   \n",
       "4  PaymentScreenSuccessful  6217807653094995999 2019-07-25 11:48:42     248   \n",
       "\n",
       "        date  \n",
       "0 2019-07-25  \n",
       "1 2019-07-25  \n",
       "2 2019-07-25  \n",
       "3 2019-07-25  \n",
       "4 2019-07-25  "
      ]
     },
     "execution_count": 6,
     "metadata": {},
     "output_type": "execute_result"
    }
   ],
   "source": [
    "data.head()"
   ]
  },
  {
   "cell_type": "markdown",
   "metadata": {},
   "source": [
    "### Estudiar y comprobar los datos."
   ]
  },
  {
   "cell_type": "markdown",
   "metadata": {},
   "source": [
    "#### ¿Cuántos eventos hay en los registros?"
   ]
  },
  {
   "cell_type": "code",
   "execution_count": 7,
   "metadata": {},
   "outputs": [
    {
     "name": "stdout",
     "output_type": "stream",
     "text": [
      "Hay 244126 eventos en los registros.\n"
     ]
    }
   ],
   "source": [
    "num_events = data.shape[0]\n",
    "print(f\"Hay {num_events} eventos en los registros.\")"
   ]
  },
  {
   "cell_type": "markdown",
   "metadata": {},
   "source": [
    "#### ¿Cuántos usuarios y usuarias hay en los registros?"
   ]
  },
  {
   "cell_type": "code",
   "execution_count": 8,
   "metadata": {},
   "outputs": [
    {
     "name": "stdout",
     "output_type": "stream",
     "text": [
      "Hay 7551 usuarios y usuarias en los registros.\n"
     ]
    }
   ],
   "source": [
    "num_users = data['user_id'].nunique()\n",
    "print(f\"Hay {num_users} usuarios y usuarias en los registros.\")"
   ]
  },
  {
   "cell_type": "markdown",
   "metadata": {},
   "source": [
    "#### ¿Cuál es el promedio de eventos por usuario?"
   ]
  },
  {
   "cell_type": "code",
   "execution_count": 9,
   "metadata": {},
   "outputs": [
    {
     "name": "stdout",
     "output_type": "stream",
     "text": [
      "El promedio de eventos por usuario es 32\n"
     ]
    }
   ],
   "source": [
    "avg_events_per_user = num_events / num_users\n",
    "print(f\"El promedio de eventos por usuario es {avg_events_per_user:.0f}\")"
   ]
  },
  {
   "cell_type": "markdown",
   "metadata": {},
   "source": [
    "#### ¿Qué periodo de tiempo cubren los datos?"
   ]
  },
  {
   "cell_type": "code",
   "execution_count": 10,
   "metadata": {},
   "outputs": [
    {
     "name": "stdout",
     "output_type": "stream",
     "text": [
      "La fecha mínima es 2019-07-25 y la fecha máxima es 2019-08-07\n"
     ]
    }
   ],
   "source": [
    "date_min = data['date'].min().date()\n",
    "date_max = data['date'].max().date()\n",
    "print(f\"La fecha mínima es {date_min} y la fecha máxima es {date_max}\")"
   ]
  },
  {
   "cell_type": "code",
   "execution_count": 11,
   "metadata": {
    "scrolled": true
   },
   "outputs": [
    {
     "data": {
      "image/png": "[encoded data removed]",
      "text/plain": [
       "<Figure size 1000x400 with 1 Axes>"
      ]
     },
     "metadata": {},
     "output_type": "display_data"
    }
   ],
   "source": [
    "plt.figure(figsize=(10, 4))\n",
    "plt.hist(data['date'], bins=15, color='skyblue', edgecolor='black')\n",
    "plt.title('Histograma de fechas')\n",
    "plt.xlabel('Fecha')\n",
    "plt.ylabel('Frecuencia')\n",
    "plt.xticks(rotation=45, ha='right')\n",
    "plt.tight_layout()\n",
    "plt.show()"
   ]
  },
  {
   "cell_type": "markdown",
   "metadata": {},
   "source": [
    "El histograma sugiere una tendencia de aumento de puntos de datos a medida que pasamos de julio a agosto. Hay una baja frecuencia de puntos de datos para fechas de julio, sobre todo antes de final de mes y muestra un pico significativo en la frecuencia para las fechas de agosto de 2019.\n",
    "\n",
    "Al crear un nuevo dataframe con los datos del 1 al 7 de agosto, se podrá analizar los datos de manera más confiable y obtener conclusiones más precisas."
   ]
  },
  {
   "cell_type": "code",
   "execution_count": 12,
   "metadata": {},
   "outputs": [
    {
     "name": "stdout",
     "output_type": "stream",
     "text": [
      "<class 'pandas.core.frame.DataFrame'>\n",
      "Int64Index: 241298 entries, 2828 to 244125\n",
      "Data columns (total 5 columns):\n",
      " #   Column      Non-Null Count   Dtype         \n",
      "---  ------      --------------   -----         \n",
      " 0   event       241298 non-null  object        \n",
      " 1   user_id     241298 non-null  int64         \n",
      " 2   event_time  241298 non-null  datetime64[ns]\n",
      " 3   exp_id      241298 non-null  int64         \n",
      " 4   date        241298 non-null  datetime64[ns]\n",
      "dtypes: datetime64[ns](2), int64(2), object(1)\n",
      "memory usage: 11.0+ MB\n"
     ]
    }
   ],
   "source": [
    "new_data = data[(data['date'] >= '2019-08-01') & (data['date'] <= '2019-08-07')]\n",
    "new_data.info()"
   ]
  },
  {
   "cell_type": "markdown",
   "metadata": {},
   "source": [
    "#### ¿Perdiste muchos eventos y usuarios al excluir los datos más antiguos?\n"
   ]
  },
  {
   "cell_type": "code",
   "execution_count": 13,
   "metadata": {},
   "outputs": [
    {
     "name": "stdout",
     "output_type": "stream",
     "text": [
      "Se anularon 2828 eventos. Equivalente al 1.16 % de los registros\n"
     ]
    }
   ],
   "source": [
    "num_events_new_data = new_data.shape[0]\n",
    "new_num_events = num_events - num_events_new_data\n",
    "prop_num_events = new_num_events / num_events * 100 \n",
    "print(f\"Se anularon {new_num_events} eventos. Equivalente al {prop_num_events:.2f} % de los registros\")"
   ]
  },
  {
   "cell_type": "code",
   "execution_count": 14,
   "metadata": {},
   "outputs": [
    {
     "name": "stdout",
     "output_type": "stream",
     "text": [
      "Se anularon 17 usuarios y usuarias. Equivalente al 0.23 % de los registros\n"
     ]
    }
   ],
   "source": [
    "num_users_new_data = new_data['user_id'].nunique()\n",
    "new_num_users = num_users - num_users_new_data\n",
    "prop_num_users = new_num_users / num_users * 100\n",
    "print(f\"Se anularon {new_num_users} usuarios y usuarias. Equivalente al {prop_num_users:.2f} % de los registros\")"
   ]
  },
  {
   "cell_type": "markdown",
   "metadata": {},
   "source": [
    "No, no hubo perdidas significativas de eventos y usuarios al excluir los datos más antiguos."
   ]
  },
  {
   "cell_type": "markdown",
   "metadata": {},
   "source": [
    "#### Asegúrate de tener usuarios y usuarias de los tres grupos experimentales."
   ]
  },
  {
   "cell_type": "code",
   "execution_count": 15,
   "metadata": {},
   "outputs": [
    {
     "name": "stdout",
     "output_type": "stream",
     "text": [
      "Usuarios por grupo experimental:\n",
      "   exp_id  users_count\n",
      "0     246         2484\n",
      "1     247         2513\n",
      "2     248         2537\n"
     ]
    }
   ],
   "source": [
    "users_per_group = new_data.groupby('exp_id')['user_id'].nunique().reset_index()\n",
    "users_per_group.columns = ['exp_id', 'users_count']\n",
    "print(\"Usuarios por grupo experimental:\")\n",
    "print(users_per_group)"
   ]
  },
  {
   "cell_type": "markdown",
   "metadata": {},
   "source": [
    "### Estudiar el embudo de eventos."
   ]
  },
  {
   "cell_type": "markdown",
   "metadata": {},
   "source": [
    "#### Identificar y contar los eventos."
   ]
  },
  {
   "cell_type": "code",
   "execution_count": 16,
   "metadata": {},
   "outputs": [
    {
     "name": "stdout",
     "output_type": "stream",
     "text": [
      "Frecuencia de eventos:\n",
      "                      event   count\n",
      "0         MainScreenAppear  117431\n",
      "1       OffersScreenAppear   46350\n",
      "2         CartScreenAppear   42365\n",
      "3  PaymentScreenSuccessful   34113\n",
      "4                 Tutorial    1039\n"
     ]
    }
   ],
   "source": [
    "event_counts = new_data['event'].value_counts().reset_index()\n",
    "event_counts.columns = ['event', 'count']\n",
    "print(\"Frecuencia de eventos:\\n\", event_counts)"
   ]
  },
  {
   "cell_type": "markdown",
   "metadata": {},
   "source": [
    "#### Usuarios que realizan cada evento."
   ]
  },
  {
   "cell_type": "code",
   "execution_count": 17,
   "metadata": {},
   "outputs": [
    {
     "name": "stdout",
     "output_type": "stream",
     "text": [
      "\n",
      "Usuarios por evento:\n",
      "                      event  unique_users  proportion\n",
      "0         MainScreenAppear          7419    0.984736\n",
      "1       OffersScreenAppear          4593    0.609636\n",
      "2         CartScreenAppear          3734    0.495620\n",
      "3  PaymentScreenSuccessful          3539    0.469737\n",
      "4                 Tutorial           840    0.111495\n"
     ]
    }
   ],
   "source": [
    "users_per_event = new_data.groupby('event')['user_id'].nunique().reset_index()\n",
    "users_per_event.columns = ['event', 'unique_users']\n",
    "\n",
    "users_per_event = users_per_event.sort_values(by='unique_users', ascending=False).reset_index(drop=True)\n",
    "\n",
    "# Proporción de usuarios por evento.\n",
    "total_users = new_data['user_id'].nunique()\n",
    "users_per_event['proportion'] = users_per_event['unique_users'] / total_users\n",
    "\n",
    "print(\"\\nUsuarios por evento:\\n\", users_per_event)"
   ]
  },
  {
   "cell_type": "markdown",
   "metadata": {},
   "source": [
    "#### Determinar el orden de los eventos."
   ]
  },
  {
   "cell_type": "markdown",
   "metadata": {},
   "source": [
    "Ejemplo de orden lógico esperado\n",
    "- **MainScreenAppear**: El usuario abre la aplicación y aparece la pantalla principal.\n",
    "- **OffersScreenAppear**: El usuario navega a la pantalla de ofertas.\n",
    "- **CartScreenAppear**: El usuario agrega algo al carrito y navega a la pantalla del carrito.\n",
    "- **PaymentScreenSuccessful**: El usuario completa el pago.\n",
    "- **Tutorial**: El usuario decide ver el tutorial después de completar una compra o en cualquier otro momento."
   ]
  },
  {
   "cell_type": "markdown",
   "metadata": {},
   "source": [
    "#### Calcular el embudo de eventos."
   ]
  },
  {
   "cell_type": "code",
   "execution_count": 18,
   "metadata": {},
   "outputs": [
    {
     "name": "stdout",
     "output_type": "stream",
     "text": [
      "Visitantes: 7419\n",
      "Aparece la pantalla de ofertas: 4201\n",
      "Aparece la pantalla del carro de compras: 1767\n",
      "Aparece la pantalla de pago completo: 454\n",
      "Tutorial: 1\n"
     ]
    }
   ],
   "source": [
    "users = new_data.pivot_table(\n",
    "    index='user_id', \n",
    "    columns='event', \n",
    "    values='event_time',\n",
    "    aggfunc='min')\n",
    "\n",
    "step_1 = ~users['MainScreenAppear'].isna()\n",
    "step_2 = step_1 & (users['OffersScreenAppear'] > users['MainScreenAppear'])\n",
    "step_3 = step_2 & (users['CartScreenAppear'] > users['OffersScreenAppear'])\n",
    "step_4 = step_3 & (users['PaymentScreenSuccessful'] > users['CartScreenAppear'])\n",
    "step_5 = step_4 & (users['Tutorial'] > users['PaymentScreenSuccessful'])\n",
    "\n",
    "n_main_sa = users[step_1].shape[0]\n",
    "n_offers_sa = users[step_2].shape[0]\n",
    "n_cart_sa = users[step_3].shape[0]\n",
    "n_payment_ss = users[step_4].shape[0]\n",
    "n_tutorial = users[step_5].shape[0]\n",
    "\n",
    "print('Visitantes:', n_main_sa)\n",
    "print('Aparece la pantalla de ofertas:', n_offers_sa)\n",
    "print('Aparece la pantalla del carro de compras:', n_cart_sa)\n",
    "print('Aparece la pantalla de pago completo:', n_payment_ss)\n",
    "print('Tutorial:', n_tutorial)"
   ]
  },
  {
   "cell_type": "code",
   "execution_count": 19,
   "metadata": {},
   "outputs": [
    {
     "name": "stdout",
     "output_type": "stream",
     "text": [
      "\n",
      "Embudo de eventos:\n",
      "                      event  users  proportion\n",
      "0         MainScreenAppear   7419    1.000000\n",
      "1       OffersScreenAppear   4201    0.566249\n",
      "2         CartScreenAppear   1767    0.238172\n",
      "3  PaymentScreenSuccessful    454    0.061194\n",
      "4                 Tutorial      1    0.000135\n"
     ]
    }
   ],
   "source": [
    "# Crear el embudo de eventos\n",
    "funnel = pd.DataFrame({\n",
    "    'event': ['MainScreenAppear', 'OffersScreenAppear', 'CartScreenAppear', 'PaymentScreenSuccessful', 'Tutorial'],\n",
    "    'users': [n_main_sa, n_offers_sa, n_cart_sa, n_payment_ss, n_tutorial]\n",
    "})\n",
    "\n",
    "# Calcular proporciones\n",
    "funnel['proportion'] = funnel['users'] / n_main_sa\n",
    "print(\"\\nEmbudo de eventos:\\n\", funnel)"
   ]
  },
  {
   "cell_type": "markdown",
   "metadata": {},
   "source": [
    "#### Análisis de pérdida de usuarios."
   ]
  },
  {
   "cell_type": "code",
   "execution_count": 20,
   "metadata": {},
   "outputs": [
    {
     "name": "stdout",
     "output_type": "stream",
     "text": [
      "\n",
      "Embudo de eventos con pérdidas de usuarios en porcentaje:\n",
      "                      event  users  proportion  percentage_lost\n",
      "0         MainScreenAppear   7419    1.000000              NaN\n",
      "1       OffersScreenAppear   4201    0.566249        43.375118\n",
      "2         CartScreenAppear   1767    0.238172        32.807656\n",
      "3  PaymentScreenSuccessful    454    0.061194        17.697803\n",
      "4                 Tutorial      1    0.000135         6.105944\n"
     ]
    }
   ],
   "source": [
    "funnel['percentage_lost'] = (funnel['proportion'].shift(1) - funnel['proportion']) * 100\n",
    "print(\"\\nEmbudo de eventos con pérdidas de usuarios en porcentaje:\\n\", funnel)"
   ]
  },
  {
   "cell_type": "markdown",
   "metadata": {},
   "source": [
    "La etapa en la que se pierden más usuarios es en la pantalla de ofertas."
   ]
  },
  {
   "cell_type": "markdown",
   "metadata": {},
   "source": [
    "#### Calcular el porcentaje de usuarios que completaron todo el viaje."
   ]
  },
  {
   "cell_type": "code",
   "execution_count": 21,
   "metadata": {},
   "outputs": [
    {
     "name": "stdout",
     "output_type": "stream",
     "text": [
      "Total de usuarios: 7534\n",
      "Usuarios que completaron todo el viaje: 1\n",
      "Porcentaje de usuarios que completaron todo el viaje: 0.01%\n"
     ]
    }
   ],
   "source": [
    "n_total_users = users.shape[0]\n",
    "n_users_complete_journey = users[step_5].shape[0]\n",
    "\n",
    "# Calcular el porcentaje de usuarios que completaron todo el viaje\n",
    "percentage_complete_journey = (n_users_complete_journey / n_total_users) * 100\n",
    "\n",
    "print(f'Total de usuarios: {n_total_users}')\n",
    "print(f'Usuarios que completaron todo el viaje: {n_users_complete_journey}')\n",
    "print(f'Porcentaje de usuarios que completaron todo el viaje: {percentage_complete_journey:.2f}%')"
   ]
  },
  {
   "cell_type": "markdown",
   "metadata": {},
   "source": [
    "### Estudiar los resultados del experimento"
   ]
  },
  {
   "cell_type": "markdown",
   "metadata": {},
   "source": [
    "#### ¿Cuántos usuarios y usuarias hay en cada grupo?"
   ]
  },
  {
   "cell_type": "code",
   "execution_count": 22,
   "metadata": {},
   "outputs": [
    {
     "name": "stdout",
     "output_type": "stream",
     "text": [
      "\n",
      "Número de usuarios únicos en cada grupo:\n",
      "    exp_id  users_count\n",
      "0     246         2484\n",
      "1     247         2513\n",
      "2     248         2537\n"
     ]
    }
   ],
   "source": [
    "print(\"\\nNúmero de usuarios únicos en cada grupo:\\n\", users_per_group)"
   ]
  },
  {
   "cell_type": "markdown",
   "metadata": {},
   "source": [
    "#### Diferencia estadísticamente significativa entre las muestras 246 y 247 (prueba A/A)."
   ]
  },
  {
   "cell_type": "code",
   "execution_count": 23,
   "metadata": {},
   "outputs": [
    {
     "name": "stdout",
     "output_type": "stream",
     "text": [
      "\n",
      "Datos de eventos para el grupo 246:\n",
      " event\n",
      "CartScreenAppear           1266\n",
      "MainScreenAppear           2450\n",
      "OffersScreenAppear         1542\n",
      "PaymentScreenSuccessful    1200\n",
      "Tutorial                    278\n",
      "Name: 246, dtype: int64\n",
      "\n",
      "Datos de eventos para el grupo 247:\n",
      " event\n",
      "CartScreenAppear           1238\n",
      "MainScreenAppear           2476\n",
      "OffersScreenAppear         1520\n",
      "PaymentScreenSuccessful    1158\n",
      "Tutorial                    283\n",
      "Name: 247, dtype: int64\n"
     ]
    }
   ],
   "source": [
    "# Contar usuarios únicos por evento y grupo experimental\n",
    "users_per_event_group = new_data.groupby(['exp_id', 'event'])['user_id'].nunique().unstack(fill_value=0)\n",
    "\n",
    "# verificar datos para los grupos 246 y 247\n",
    "group_246_events = users_per_event_group.loc[246]\n",
    "group_247_events = users_per_event_group.loc[247]\n",
    "\n",
    "# selecciona el evento popular\n",
    "popular_event = new_data['event'].mode()[0]\n",
    "\n",
    "# datos para los grupos 246 y 247\n",
    "group_246_data = new_data[new_data['exp_id'] == 246]\n",
    "group_247_data = new_data[new_data['exp_id'] == 247]\n",
    "\n",
    "# cantidad de usuarios que realizaron el evento más popular en cada grupo\n",
    "users_246_event = group_246_data[group_246_data['event'] == popular_event]['user_id'].nunique()\n",
    "users_247_event = group_247_data[group_24bm7_data['event'] == popular_event]['user_id'].nunique()\n",
    "\n",
    "# número total de usuarios en cada grupo\n",
    "total_users_246 = group_246_data['user_id'].nunique()\n",
    "total_users_247 = group_247_data['user_id'].nunique()\n",
    "\n",
    "print(\"\\nDatos de eventos para el grupo 246:\\n\", group_246_events)\n",
    "print(\"\\nDatos de eventos para el grupo 247:\\n\", group_247_events)"
   ]
  },
  {
   "cell_type": "code",
   "execution_count": 24,
   "metadata": {},
   "outputs": [
    {
     "name": "stdout",
     "output_type": "stream",
     "text": [
      "p-value:  0.7570597232046099\n",
      "No se pudo rechazar la hipótesis nula: no hay razón para pensar que las proporciones son diferentes\n"
     ]
    }
   ],
   "source": [
    "alpha = .05 # nivel de significación\n",
    "\n",
    "counts = np.array([users_246_event, users_247_event])\n",
    "nobs = np.array([total_users_246, total_users_247])\n",
    "\n",
    "# proporción de éxito\n",
    "p1 = counts[0]/nobs[0]\n",
    "p2 = counts[1]/nobs[1]\n",
    "\n",
    "# proporción de éxito en el dataset unido:\n",
    "p_combined = (counts[0] + counts[1]) / (nobs[0] + nobs[1])\n",
    "\n",
    "# la diferencia entre las proporciones de los datasets\n",
    "difference = p1 - p2\n",
    "\n",
    "# calcula la estadística en desviaciones estándar de la distribución normal estándar\n",
    "z_value = difference / mth.sqrt(p_combined * (1 - p_combined) * (1/nobs[0] + 1/nobs[1]))\n",
    "\n",
    "# establece la distribución normal estándar (media 0, desviación estándar 1)\n",
    "distr = st.norm(0, 1)\n",
    " \n",
    "p_value = (1 - distr.cdf(abs(z_value))) * 2\n",
    "\n",
    "print('p-value: ', p_value)\n",
    "\n",
    "if (p_value < alpha):\n",
    "    print(\"Rechazar la hipótesis nula: hay una diferencia significativa entre las proporciones\")\n",
    "else:\n",
    "    print(\"No se pudo rechazar la hipótesis nula: no hay razón para pensar que las proporciones son diferentes\")"
   ]
  },
  {
   "cell_type": "markdown",
   "metadata": {},
   "source": [
    "#### Repetir el procedimiento para todos los eventos."
   ]
  },
  {
   "cell_type": "code",
   "execution_count": 25,
   "metadata": {},
   "outputs": [],
   "source": [
    "def compare_proportions(group1_data, group2_data, event):\n",
    "    # cantidad de usuarios que realizaron el evento en cada grupo\n",
    "    users_group1_event = group1_data[group1_data['event'] == event]['user_id'].nunique()\n",
    "    users_group2_event = group2_data[group2_data['event'] == event]['user_id'].nunique()\n",
    "\n",
    "    # número total de usuarios en cada grupo\n",
    "    total_users_group1 = group1_data['user_id'].nunique()\n",
    "    total_users_group2 = group2_data['user_id'].nunique()\n",
    "\n",
    "    # proporción de usuarios que realizaron el evento en cada grupo\n",
    "    p1 = users_group1_event / total_users_group1\n",
    "    p2 = users_group2_event / total_users_group2\n",
    "\n",
    "    # proporción de usuarios que realizaron el evento en el dataset unido\n",
    "    p_combined = (users_group1_event + users_group2_event) / (total_users_group1 + total_users_group2)\n",
    "\n",
    "    # diferencia entre las proporciones de los datasets\n",
    "    difference = p1 - p2\n",
    "\n",
    "    # estadística Z\n",
    "    z_value = difference / mth.sqrt(p_combined * (1 - p_combined) * (1/total_users_group1 + 1/total_users_group2))\n",
    "\n",
    "    # p-value\n",
    "    p_value = (1 - st.norm(0, 1).cdf(abs(z_value))) * 2\n",
    "\n",
    "    return p1, p2, p_value"
   ]
  },
  {
   "cell_type": "code",
   "execution_count": 26,
   "metadata": {},
   "outputs": [
    {
     "name": "stdout",
     "output_type": "stream",
     "text": [
      "Evento: Tutorial\n",
      "Proporción grupo 246: 0.11\n",
      "Proporción grupo 247: 0.11\n",
      "p-value: 0.9377\n",
      "No se pudo rechazar la hipótesis nula: no hay razón para pensar que las proporciones son diferentes\n",
      "\n",
      "Evento: MainScreenAppear\n",
      "Proporción grupo 246: 0.99\n",
      "Proporción grupo 247: 0.99\n",
      "p-value: 0.7571\n",
      "No se pudo rechazar la hipótesis nula: no hay razón para pensar que las proporciones son diferentes\n",
      "\n",
      "Evento: OffersScreenAppear\n",
      "Proporción grupo 246: 0.62\n",
      "Proporción grupo 247: 0.60\n",
      "p-value: 0.2481\n",
      "No se pudo rechazar la hipótesis nula: no hay razón para pensar que las proporciones son diferentes\n",
      "\n",
      "Evento: CartScreenAppear\n",
      "Proporción grupo 246: 0.51\n",
      "Proporción grupo 247: 0.49\n",
      "p-value: 0.2288\n",
      "No se pudo rechazar la hipótesis nula: no hay razón para pensar que las proporciones son diferentes\n",
      "\n",
      "Evento: PaymentScreenSuccessful\n",
      "Proporción grupo 246: 0.48\n",
      "Proporción grupo 247: 0.46\n",
      "p-value: 0.1146\n",
      "No se pudo rechazar la hipótesis nula: no hay razón para pensar que las proporciones son diferentes\n",
      "\n"
     ]
    }
   ],
   "source": [
    "alpha = .05\n",
    "\n",
    "events = new_data['event'].unique()\n",
    "\n",
    "for event in events:\n",
    "    p1, p2, p_value = compare_proportions(group_246_data, group_247_data, event)\n",
    "    print(f\"Evento: {event}\")\n",
    "    print(f\"Proporción grupo 246: {p1:.2f}\")\n",
    "    print(f\"Proporción grupo 247: {p2:.2f}\")\n",
    "    print(f\"p-value: {p_value:.4f}\")\n",
    "    if p_value < alpha:\n",
    "        print(\"Rechazar la hipótesis nula: hay una diferencia significativa entre las proporciones\")\n",
    "    else:\n",
    "        print(\"No se pudo rechazar la hipótesis nula: no hay razón para pensar que las proporciones son diferentes\")\n",
    "    print()"
   ]
  },
  {
   "cell_type": "markdown",
   "metadata": {},
   "source": [
    "#### Grupo 248."
   ]
  },
  {
   "cell_type": "code",
   "execution_count": 27,
   "metadata": {},
   "outputs": [
    {
     "name": "stdout",
     "output_type": "stream",
     "text": [
      "Evento: Tutorial\n",
      "Proporción grupo 246: 0.11\n",
      "Proporción grupo 248: 0.11\n",
      "p-value: 0.8264\n",
      "No se pudo rechazar la hipótesis nula: no hay razón para pensar que las proporciones son diferentes\n",
      "\n",
      "Evento: Tutorial\n",
      "Proporción grupo 247: 0.11\n",
      "Proporción grupo 248: 0.11\n",
      "p-value: 0.7653\n",
      "No se pudo rechazar la hipótesis nula: no hay razón para pensar que las proporciones son diferentes\n",
      "\n",
      "Evento: MainScreenAppear\n",
      "Proporción grupo 246: 0.99\n",
      "Proporción grupo 248: 0.98\n",
      "p-value: 0.2950\n",
      "No se pudo rechazar la hipótesis nula: no hay razón para pensar que las proporciones son diferentes\n",
      "\n",
      "Evento: MainScreenAppear\n",
      "Proporción grupo 247: 0.99\n",
      "Proporción grupo 248: 0.98\n",
      "p-value: 0.4587\n",
      "No se pudo rechazar la hipótesis nula: no hay razón para pensar que las proporciones son diferentes\n",
      "\n",
      "Evento: OffersScreenAppear\n",
      "Proporción grupo 246: 0.62\n",
      "Proporción grupo 248: 0.60\n",
      "p-value: 0.2084\n",
      "No se pudo rechazar la hipótesis nula: no hay razón para pensar que las proporciones son diferentes\n",
      "\n",
      "Evento: OffersScreenAppear\n",
      "Proporción grupo 247: 0.60\n",
      "Proporción grupo 248: 0.60\n",
      "p-value: 0.9198\n",
      "No se pudo rechazar la hipótesis nula: no hay razón para pensar que las proporciones son diferentes\n",
      "\n",
      "Evento: CartScreenAppear\n",
      "Proporción grupo 246: 0.51\n",
      "Proporción grupo 248: 0.48\n",
      "p-value: 0.0784\n",
      "No se pudo rechazar la hipótesis nula: no hay razón para pensar que las proporciones son diferentes\n",
      "\n",
      "Evento: CartScreenAppear\n",
      "Proporción grupo 247: 0.49\n",
      "Proporción grupo 248: 0.48\n",
      "p-value: 0.5786\n",
      "No se pudo rechazar la hipótesis nula: no hay razón para pensar que las proporciones son diferentes\n",
      "\n",
      "Evento: PaymentScreenSuccessful\n",
      "Proporción grupo 246: 0.48\n",
      "Proporción grupo 248: 0.47\n",
      "p-value: 0.2123\n",
      "No se pudo rechazar la hipótesis nula: no hay razón para pensar que las proporciones son diferentes\n",
      "\n",
      "Evento: PaymentScreenSuccessful\n",
      "Proporción grupo 247: 0.46\n",
      "Proporción grupo 248: 0.47\n",
      "p-value: 0.7373\n",
      "No se pudo rechazar la hipótesis nula: no hay razón para pensar que las proporciones son diferentes\n",
      "\n"
     ]
    }
   ],
   "source": [
    "# datos para el grupo 248\n",
    "group_248_data = new_data[new_data['exp_id'] == 248]\n",
    "\n",
    "alpha = .05\n",
    "\n",
    "events = new_data['event'].unique()\n",
    "\n",
    "for event in events:\n",
    "    p1, p2, p_value = compare_proportions(group_246_data, group_248_data, event)\n",
    "    print(f\"Evento: {event}\")\n",
    "    print(f\"Proporción grupo 246: {p1:.2f}\")\n",
    "    print(f\"Proporción grupo 248: {p2:.2f}\")\n",
    "    print(f\"p-value: {p_value:.4f}\")\n",
    "    if p_value < alpha:\n",
    "        print(\"Rechazar la hipótesis nula: hay una diferencia significativa entre las proporciones\")\n",
    "    else:\n",
    "        print(\"No se pudo rechazar la hipótesis nula: no hay razón para pensar que las proporciones son diferentes\")\n",
    "    print()\n",
    "    \n",
    "    p1, p2, p_value = compare_proportions(group_247_data, group_248_data, event)\n",
    "    print(f\"Evento: {event}\")\n",
    "    print(f\"Proporción grupo 247: {p1:.2f}\")\n",
    "    print(f\"Proporción grupo 248: {p2:.2f}\")\n",
    "    print(f\"p-value: {p_value:.4f}\")\n",
    "    if p_value < alpha:\n",
    "        print(\"Rechazar la hipótesis nula: hay una diferencia significativa entre las proporciones\")\n",
    "    else:\n",
    "        print(\"No se pudo rechazar la hipótesis nula: no hay razón para pensar que las proporciones son diferentes\")\n",
    "    print()"
   ]
  },
  {
   "cell_type": "markdown",
   "metadata": {},
   "source": [
    "#### Nivel de significación de 0.01"
   ]
  },
  {
   "cell_type": "code",
   "execution_count": 28,
   "metadata": {},
   "outputs": [
    {
     "name": "stdout",
     "output_type": "stream",
     "text": [
      "Evento: Tutorial\n",
      "Proporción grupo 246: 0.11\n",
      "Proporción grupo 248: 0.11\n",
      "p-value: 0.8264\n",
      "No se pudo rechazar la hipótesis nula: no hay razón para pensar que las proporciones son diferentes\n",
      "\n",
      "Evento: Tutorial\n",
      "Proporción grupo 247: 0.11\n",
      "Proporción grupo 248: 0.11\n",
      "p-value: 0.7653\n",
      "No se pudo rechazar la hipótesis nula: no hay razón para pensar que las proporciones son diferentes\n",
      "\n",
      "Evento: MainScreenAppear\n",
      "Proporción grupo 246: 0.99\n",
      "Proporción grupo 248: 0.98\n",
      "p-value: 0.2950\n",
      "No se pudo rechazar la hipótesis nula: no hay razón para pensar que las proporciones son diferentes\n",
      "\n",
      "Evento: MainScreenAppear\n",
      "Proporción grupo 247: 0.99\n",
      "Proporción grupo 248: 0.98\n",
      "p-value: 0.4587\n",
      "No se pudo rechazar la hipótesis nula: no hay razón para pensar que las proporciones son diferentes\n",
      "\n",
      "Evento: OffersScreenAppear\n",
      "Proporción grupo 246: 0.62\n",
      "Proporción grupo 248: 0.60\n",
      "p-value: 0.2084\n",
      "No se pudo rechazar la hipótesis nula: no hay razón para pensar que las proporciones son diferentes\n",
      "\n",
      "Evento: OffersScreenAppear\n",
      "Proporción grupo 247: 0.60\n",
      "Proporción grupo 248: 0.60\n",
      "p-value: 0.9198\n",
      "No se pudo rechazar la hipótesis nula: no hay razón para pensar que las proporciones son diferentes\n",
      "\n",
      "Evento: CartScreenAppear\n",
      "Proporción grupo 246: 0.51\n",
      "Proporción grupo 248: 0.48\n",
      "p-value: 0.0784\n",
      "No se pudo rechazar la hipótesis nula: no hay razón para pensar que las proporciones son diferentes\n",
      "\n",
      "Evento: CartScreenAppear\n",
      "Proporción grupo 247: 0.49\n",
      "Proporción grupo 248: 0.48\n",
      "p-value: 0.5786\n",
      "No se pudo rechazar la hipótesis nula: no hay razón para pensar que las proporciones son diferentes\n",
      "\n",
      "Evento: PaymentScreenSuccessful\n",
      "Proporción grupo 246: 0.48\n",
      "Proporción grupo 248: 0.47\n",
      "p-value: 0.2123\n",
      "No se pudo rechazar la hipótesis nula: no hay razón para pensar que las proporciones son diferentes\n",
      "\n",
      "Evento: PaymentScreenSuccessful\n",
      "Proporción grupo 247: 0.46\n",
      "Proporción grupo 248: 0.47\n",
      "p-value: 0.7373\n",
      "No se pudo rechazar la hipótesis nula: no hay razón para pensar que las proporciones son diferentes\n",
      "\n"
     ]
    }
   ],
   "source": [
    "alpha = 0.01\n",
    "\n",
    "for event in events:\n",
    "    p1, p2, p_value = compare_proportions(group_246_data, group_248_data, event)\n",
    "    print(f\"Evento: {event}\")\n",
    "    print(f\"Proporción grupo 246: {p1:.2f}\")\n",
    "    print(f\"Proporción grupo 248: {p2:.2f}\")\n",
    "    print(f\"p-value: {p_value:.4f}\")\n",
    "    if p_value < alpha:\n",
    "        print(\"Rechazar la hipótesis nula: hay una diferencia significativa entre las proporciones\")\n",
    "    else:\n",
    "        print(\"No se pudo rechazar la hipótesis nula: no hay razón para pensar que las proporciones son diferentes\")\n",
    "    print()\n",
    "\n",
    "    p1, p2, p_value = compare_proportions(group_247_data, group_248_data, event)\n",
    "    print(f\"Evento: {event}\")\n",
    "    print(f\"Proporción grupo 247: {p1:.2f}\")\n",
    "    print(f\"Proporción grupo 248: {p2:.2f}\")\n",
    "    print(f\"p-value: {p_value:.4f}\")\n",
    "    if p_value < alpha:\n",
    "        print(\"Rechazar la hipótesis nula: hay una diferencia significativa entre las proporciones\")\n",
    "    else:\n",
    "        print(\"No se pudo rechazar la hipótesis nula: no hay razón para pensar que las proporciones son diferentes\")\n",
    "    print()"
   ]
  },
  {
   "cell_type": "markdown",
   "metadata": {},
   "source": [
    "Con un nivel de significancia más bajo (α = 0.01), se confirmó que ninguna de las diferencias observadas era estadísticamente significativa, lo cual refuerza los resultados anteriores.\n",
    "\n",
    "En resumen, según los análisis realizados, no hay evidencia suficiente para afirmar que el grupo de prueba 248 difiere significativamente en términos de comportamiento de usuario en comparación con los grupos de control 246 y 247. Esto indica que, desde una perspectiva estadística, los grupos parecen haber sido divididos correctamente y no muestran diferencias notables en cuanto a la realización de eventos clave en la aplicación."
   ]
  }
 ],
 "metadata": {
  "ExecuteTimeLog": [
   {
    "duration": 461,
    "start_time": "2024-06-17T17:13:40.316Z"
   },
   {
    "duration": 397,
    "start_time": "2024-06-17T17:20:26.340Z"
   },
   {
    "duration": 348,
    "start_time": "2024-06-17T17:22:24.579Z"
   },
   {
    "duration": 331,
    "start_time": "2024-06-17T17:22:35.501Z"
   },
   {
    "duration": 309,
    "start_time": "2024-06-17T17:24:14.253Z"
   },
   {
    "duration": 6,
    "start_time": "2024-06-17T17:24:24.686Z"
   },
   {
    "duration": 309,
    "start_time": "2024-06-17T17:24:34.295Z"
   },
   {
    "duration": 178,
    "start_time": "2024-06-17T17:25:06.546Z"
   },
   {
    "duration": 337,
    "start_time": "2024-06-17T17:29:59.672Z"
   },
   {
    "duration": 16,
    "start_time": "2024-06-17T17:30:08.997Z"
   },
   {
    "duration": 25,
    "start_time": "2024-06-17T17:30:51.460Z"
   },
   {
    "duration": 29,
    "start_time": "2024-06-17T17:35:26.478Z"
   },
   {
    "duration": 33,
    "start_time": "2024-06-17T17:35:34.529Z"
   },
   {
    "duration": 120,
    "start_time": "2024-06-17T17:38:23.508Z"
   },
   {
    "duration": 7,
    "start_time": "2024-06-17T17:39:07.135Z"
   },
   {
    "duration": 55,
    "start_time": "2024-06-17T17:39:17.340Z"
   },
   {
    "duration": 36,
    "start_time": "2024-06-17T17:39:29.290Z"
   },
   {
    "duration": 6,
    "start_time": "2024-06-17T17:42:27.325Z"
   },
   {
    "duration": 51,
    "start_time": "2024-06-17T17:42:33.418Z"
   },
   {
    "duration": 140,
    "start_time": "2024-06-17T17:42:44.227Z"
   },
   {
    "duration": 11,
    "start_time": "2024-06-17T17:43:48.189Z"
   },
   {
    "duration": 40,
    "start_time": "2024-06-17T17:44:36.744Z"
   },
   {
    "duration": 27,
    "start_time": "2024-06-17T17:44:42.052Z"
   },
   {
    "duration": 131,
    "start_time": "2024-06-17T17:44:53.312Z"
   },
   {
    "duration": 422,
    "start_time": "2024-06-17T17:45:05.042Z"
   },
   {
    "duration": 201,
    "start_time": "2024-06-17T17:45:05.468Z"
   },
   {
    "duration": 41,
    "start_time": "2024-06-17T17:45:05.671Z"
   },
   {
    "duration": 18,
    "start_time": "2024-06-17T17:45:05.715Z"
   },
   {
    "duration": 149,
    "start_time": "2024-06-17T17:45:05.737Z"
   },
   {
    "duration": 175,
    "start_time": "2024-06-17T17:47:10.161Z"
   },
   {
    "duration": 5,
    "start_time": "2024-06-17T18:12:38.469Z"
   },
   {
    "duration": 15,
    "start_time": "2024-06-17T18:15:28.188Z"
   },
   {
    "duration": 381,
    "start_time": "2024-06-17T18:16:56.172Z"
   },
   {
    "duration": 10,
    "start_time": "2024-06-17T18:17:05.707Z"
   },
   {
    "duration": 5,
    "start_time": "2024-06-17T18:25:57.370Z"
   },
   {
    "duration": 21,
    "start_time": "2024-06-17T18:37:23.759Z"
   },
   {
    "duration": 8,
    "start_time": "2024-06-17T18:39:40.206Z"
   },
   {
    "duration": 3981,
    "start_time": "2024-06-17T18:43:26.148Z"
   },
   {
    "duration": 755,
    "start_time": "2024-06-17T18:44:41.039Z"
   },
   {
    "duration": 288,
    "start_time": "2024-06-17T18:45:59.271Z"
   },
   {
    "duration": 9,
    "start_time": "2024-06-17T18:46:59.227Z"
   },
   {
    "duration": 7,
    "start_time": "2024-06-17T18:47:24.043Z"
   },
   {
    "duration": 298,
    "start_time": "2024-06-17T18:48:06.457Z"
   },
   {
    "duration": 285,
    "start_time": "2024-06-17T18:48:13.110Z"
   },
   {
    "duration": 268,
    "start_time": "2024-06-17T18:48:23.964Z"
   },
   {
    "duration": 283,
    "start_time": "2024-06-17T18:48:29.597Z"
   },
   {
    "duration": 271,
    "start_time": "2024-06-17T18:48:57.886Z"
   },
   {
    "duration": 297,
    "start_time": "2024-06-17T18:49:13.519Z"
   },
   {
    "duration": 266,
    "start_time": "2024-06-17T18:49:21.853Z"
   },
   {
    "duration": 535,
    "start_time": "2024-06-17T18:50:08.413Z"
   },
   {
    "duration": 391,
    "start_time": "2024-06-17T18:50:27.969Z"
   },
   {
    "duration": 415,
    "start_time": "2024-06-17T18:50:41.374Z"
   },
   {
    "duration": 296,
    "start_time": "2024-06-17T18:50:57.675Z"
   },
   {
    "duration": 395,
    "start_time": "2024-06-17T18:51:07.563Z"
   },
   {
    "duration": 475,
    "start_time": "2024-06-17T18:52:10.765Z"
   },
   {
    "duration": 438,
    "start_time": "2024-06-17T18:52:27.702Z"
   },
   {
    "duration": 418,
    "start_time": "2024-06-17T19:00:55.571Z"
   },
   {
    "duration": 367,
    "start_time": "2024-06-17T19:01:02.856Z"
   },
   {
    "duration": 366,
    "start_time": "2024-06-17T19:01:14.657Z"
   },
   {
    "duration": 430,
    "start_time": "2024-06-17T19:01:20.802Z"
   },
   {
    "duration": 486,
    "start_time": "2024-06-17T19:01:34.663Z"
   },
   {
    "duration": 439,
    "start_time": "2024-06-17T19:01:45.412Z"
   },
   {
    "duration": 27,
    "start_time": "2024-06-17T19:16:21.382Z"
   },
   {
    "duration": 4,
    "start_time": "2024-06-17T19:20:13.423Z"
   },
   {
    "duration": 35,
    "start_time": "2024-06-17T19:20:30.962Z"
   },
   {
    "duration": 4,
    "start_time": "2024-06-17T19:20:39.794Z"
   },
   {
    "duration": 4,
    "start_time": "2024-06-17T19:20:56.587Z"
   },
   {
    "duration": 5,
    "start_time": "2024-06-17T19:22:43.632Z"
   },
   {
    "duration": 11,
    "start_time": "2024-06-17T19:24:46.393Z"
   },
   {
    "duration": 39,
    "start_time": "2024-06-17T19:26:45.466Z"
   },
   {
    "duration": 10,
    "start_time": "2024-06-17T19:26:57.629Z"
   },
   {
    "duration": 4,
    "start_time": "2024-06-17T19:29:28.555Z"
   },
   {
    "duration": 4,
    "start_time": "2024-06-17T19:29:37.567Z"
   },
   {
    "duration": 4,
    "start_time": "2024-06-17T19:30:31.889Z"
   },
   {
    "duration": 6,
    "start_time": "2024-06-17T19:30:40.437Z"
   },
   {
    "duration": 5,
    "start_time": "2024-06-17T19:31:18.210Z"
   },
   {
    "duration": 8,
    "start_time": "2024-06-17T19:32:39.908Z"
   },
   {
    "duration": 9,
    "start_time": "2024-06-17T19:33:04.028Z"
   },
   {
    "duration": 5,
    "start_time": "2024-06-17T19:33:21.884Z"
   },
   {
    "duration": 6,
    "start_time": "2024-06-17T19:37:45.909Z"
   },
   {
    "duration": 5,
    "start_time": "2024-06-17T19:37:52.216Z"
   },
   {
    "duration": 5,
    "start_time": "2024-06-17T19:38:18.225Z"
   },
   {
    "duration": 5,
    "start_time": "2024-06-17T19:39:52.312Z"
   },
   {
    "duration": 9,
    "start_time": "2024-06-17T19:39:57.855Z"
   },
   {
    "duration": 42,
    "start_time": "2024-06-17T19:45:42.173Z"
   },
   {
    "duration": 41,
    "start_time": "2024-06-17T19:45:57.796Z"
   },
   {
    "duration": 42,
    "start_time": "2024-06-17T19:46:11.481Z"
   },
   {
    "duration": 38,
    "start_time": "2024-06-17T19:46:30.067Z"
   },
   {
    "duration": 37,
    "start_time": "2024-06-17T19:46:34.437Z"
   },
   {
    "duration": 35,
    "start_time": "2024-06-17T19:46:59.823Z"
   },
   {
    "duration": 36,
    "start_time": "2024-06-17T19:47:08.568Z"
   },
   {
    "duration": 35,
    "start_time": "2024-06-17T19:48:57.879Z"
   },
   {
    "duration": 5,
    "start_time": "2024-06-17T19:50:21.025Z"
   },
   {
    "duration": 10,
    "start_time": "2024-06-17T19:50:29.321Z"
   },
   {
    "duration": 4276,
    "start_time": "2024-06-18T17:33:47.334Z"
   },
   {
    "duration": 238,
    "start_time": "2024-06-18T17:33:51.615Z"
   },
   {
    "duration": 29,
    "start_time": "2024-06-18T17:33:51.856Z"
   },
   {
    "duration": 16,
    "start_time": "2024-06-18T17:33:51.901Z"
   },
   {
    "duration": 191,
    "start_time": "2024-06-18T17:33:51.922Z"
   },
   {
    "duration": 12,
    "start_time": "2024-06-18T17:33:52.116Z"
   },
   {
    "duration": 5,
    "start_time": "2024-06-18T17:33:52.131Z"
   },
   {
    "duration": 12,
    "start_time": "2024-06-18T17:33:52.139Z"
   },
   {
    "duration": 47,
    "start_time": "2024-06-18T17:33:52.154Z"
   },
   {
    "duration": 8,
    "start_time": "2024-06-18T17:33:52.204Z"
   },
   {
    "duration": 470,
    "start_time": "2024-06-18T17:33:52.215Z"
   },
   {
    "duration": 55,
    "start_time": "2024-06-18T17:33:52.689Z"
   },
   {
    "duration": 6,
    "start_time": "2024-06-18T17:33:52.749Z"
   },
   {
    "duration": 41,
    "start_time": "2024-06-18T17:33:52.762Z"
   },
   {
    "duration": 44,
    "start_time": "2024-06-18T17:33:52.805Z"
   },
   {
    "duration": 29,
    "start_time": "2024-06-18T17:43:32.469Z"
   },
   {
    "duration": 7,
    "start_time": "2024-06-18T17:44:38.629Z"
   },
   {
    "duration": 8,
    "start_time": "2024-06-18T17:44:53.801Z"
   },
   {
    "duration": 30,
    "start_time": "2024-06-18T17:45:38.469Z"
   },
   {
    "duration": 70,
    "start_time": "2024-06-18T17:46:16.766Z"
   },
   {
    "duration": 79,
    "start_time": "2024-06-18T17:46:27.117Z"
   },
   {
    "duration": 15,
    "start_time": "2024-06-18T17:51:13.355Z"
   },
   {
    "duration": 11,
    "start_time": "2024-06-18T17:52:03.066Z"
   },
   {
    "duration": 23,
    "start_time": "2024-06-18T17:59:17.797Z"
   },
   {
    "duration": 36,
    "start_time": "2024-06-18T18:18:43.753Z"
   },
   {
    "duration": 118,
    "start_time": "2024-06-18T18:20:06.527Z"
   },
   {
    "duration": 418,
    "start_time": "2024-06-18T18:25:55.354Z"
   },
   {
    "duration": 71,
    "start_time": "2024-06-18T18:26:14.772Z"
   },
   {
    "duration": 13,
    "start_time": "2024-06-18T18:28:53.098Z"
   },
   {
    "duration": 66,
    "start_time": "2024-06-18T18:30:25.234Z"
   },
   {
    "duration": 14,
    "start_time": "2024-06-18T18:41:20.211Z"
   },
   {
    "duration": 9,
    "start_time": "2024-06-18T18:45:25.194Z"
   },
   {
    "duration": 11,
    "start_time": "2024-06-18T18:47:20.148Z"
   },
   {
    "duration": 27,
    "start_time": "2024-06-18T18:50:32.110Z"
   },
   {
    "duration": 29,
    "start_time": "2024-06-18T18:50:47.029Z"
   },
   {
    "duration": 45,
    "start_time": "2024-06-18T18:53:45.534Z"
   },
   {
    "duration": 71,
    "start_time": "2024-06-18T18:54:00.368Z"
   },
   {
    "duration": 72,
    "start_time": "2024-06-18T18:56:44.819Z"
   },
   {
    "duration": 79,
    "start_time": "2024-06-18T18:58:09.931Z"
   },
   {
    "duration": 71,
    "start_time": "2024-06-18T18:59:25.521Z"
   },
   {
    "duration": 4,
    "start_time": "2024-06-18T19:01:32.237Z"
   },
   {
    "duration": 4,
    "start_time": "2024-06-18T19:03:21.074Z"
   },
   {
    "duration": 6,
    "start_time": "2024-06-18T19:12:22.192Z"
   },
   {
    "duration": 835,
    "start_time": "2024-06-18T19:13:22.774Z"
   },
   {
    "duration": 5,
    "start_time": "2024-06-18T19:14:00.068Z"
   },
   {
    "duration": 5,
    "start_time": "2024-06-18T19:14:04.478Z"
   },
   {
    "duration": 10,
    "start_time": "2024-06-18T19:14:16.116Z"
   },
   {
    "duration": 10,
    "start_time": "2024-06-18T19:14:55.995Z"
   },
   {
    "duration": 10,
    "start_time": "2024-06-18T19:16:14.522Z"
   },
   {
    "duration": 5,
    "start_time": "2024-06-18T19:17:15.136Z"
   },
   {
    "duration": 9,
    "start_time": "2024-06-18T19:17:24.976Z"
   },
   {
    "duration": 13,
    "start_time": "2024-06-18T19:22:59.574Z"
   },
   {
    "duration": 13,
    "start_time": "2024-06-18T19:29:56.741Z"
   },
   {
    "duration": 18,
    "start_time": "2024-06-18T19:30:09.315Z"
   },
   {
    "duration": 17,
    "start_time": "2024-06-18T19:31:16.292Z"
   },
   {
    "duration": 15,
    "start_time": "2024-06-18T19:32:42.655Z"
   },
   {
    "duration": 14,
    "start_time": "2024-06-18T19:32:57.861Z"
   },
   {
    "duration": 722,
    "start_time": "2024-06-18T19:33:15.412Z"
   },
   {
    "duration": 251,
    "start_time": "2024-06-18T19:33:16.137Z"
   },
   {
    "duration": 36,
    "start_time": "2024-06-18T19:33:16.391Z"
   },
   {
    "duration": 18,
    "start_time": "2024-06-18T19:33:16.431Z"
   },
   {
    "duration": 204,
    "start_time": "2024-06-18T19:33:16.452Z"
   },
   {
    "duration": 12,
    "start_time": "2024-06-18T19:33:16.659Z"
   },
   {
    "duration": 28,
    "start_time": "2024-06-18T19:33:16.674Z"
   },
   {
    "duration": 12,
    "start_time": "2024-06-18T19:33:16.706Z"
   },
   {
    "duration": 4,
    "start_time": "2024-06-18T19:33:16.721Z"
   },
   {
    "duration": 7,
    "start_time": "2024-06-18T19:33:16.731Z"
   },
   {
    "duration": 512,
    "start_time": "2024-06-18T19:33:16.741Z"
   },
   {
    "duration": 58,
    "start_time": "2024-06-18T19:33:17.256Z"
   },
   {
    "duration": 6,
    "start_time": "2024-06-18T19:33:17.317Z"
   },
   {
    "duration": 14,
    "start_time": "2024-06-18T19:33:17.326Z"
   },
   {
    "duration": 72,
    "start_time": "2024-06-18T19:33:17.345Z"
   },
   {
    "duration": 31,
    "start_time": "2024-06-18T19:33:17.421Z"
   },
   {
    "duration": 94,
    "start_time": "2024-06-18T19:33:17.455Z"
   },
   {
    "duration": 100,
    "start_time": "2024-06-18T19:33:17.552Z"
   },
   {
    "duration": 11,
    "start_time": "2024-06-18T19:33:17.655Z"
   },
   {
    "duration": 14,
    "start_time": "2024-06-18T19:33:21.721Z"
   },
   {
    "duration": 13,
    "start_time": "2024-06-18T19:34:02.806Z"
   },
   {
    "duration": 13,
    "start_time": "2024-06-18T19:34:09.598Z"
   },
   {
    "duration": 10,
    "start_time": "2024-06-18T19:34:38.628Z"
   },
   {
    "duration": 7,
    "start_time": "2024-06-18T19:37:07.865Z"
   },
   {
    "duration": 9,
    "start_time": "2024-06-18T19:37:33.350Z"
   },
   {
    "duration": 6,
    "start_time": "2024-06-18T19:37:45.150Z"
   },
   {
    "duration": 39,
    "start_time": "2024-06-18T19:41:31.091Z"
   },
   {
    "duration": 7,
    "start_time": "2024-06-18T19:42:47.710Z"
   },
   {
    "duration": 39,
    "start_time": "2024-06-18T19:43:53.437Z"
   },
   {
    "duration": 38,
    "start_time": "2024-06-18T19:44:14.237Z"
   },
   {
    "duration": 37,
    "start_time": "2024-06-18T19:44:40.632Z"
   },
   {
    "duration": 6,
    "start_time": "2024-06-18T19:45:13.759Z"
   },
   {
    "duration": 895,
    "start_time": "2024-06-18T19:48:38.928Z"
   },
   {
    "duration": 4,
    "start_time": "2024-06-18T19:49:32.284Z"
   },
   {
    "duration": 86,
    "start_time": "2024-06-18T19:51:31.194Z"
   },
   {
    "duration": 91,
    "start_time": "2024-06-18T19:52:36.068Z"
   },
   {
    "duration": 44,
    "start_time": "2024-06-18T20:06:11.378Z"
   },
   {
    "duration": 42,
    "start_time": "2024-06-18T20:08:49.630Z"
   },
   {
    "duration": 41,
    "start_time": "2024-06-18T20:10:17.023Z"
   },
   {
    "duration": 6,
    "start_time": "2024-06-18T20:10:29.510Z"
   },
   {
    "duration": 37,
    "start_time": "2024-06-18T20:11:01.881Z"
   },
   {
    "duration": 6,
    "start_time": "2024-06-18T20:11:20.229Z"
   },
   {
    "duration": 10,
    "start_time": "2024-06-18T20:11:53.946Z"
   },
   {
    "duration": 8,
    "start_time": "2024-06-18T20:12:35.412Z"
   },
   {
    "duration": 4815,
    "start_time": "2024-06-18T23:59:35.356Z"
   },
   {
    "duration": 241,
    "start_time": "2024-06-18T23:59:40.176Z"
   },
   {
    "duration": 31,
    "start_time": "2024-06-18T23:59:40.421Z"
   },
   {
    "duration": 20,
    "start_time": "2024-06-18T23:59:40.456Z"
   },
   {
    "duration": 171,
    "start_time": "2024-06-18T23:59:40.513Z"
   },
   {
    "duration": 26,
    "start_time": "2024-06-18T23:59:40.687Z"
   },
   {
    "duration": 5,
    "start_time": "2024-06-18T23:59:40.716Z"
   },
   {
    "duration": 11,
    "start_time": "2024-06-18T23:59:40.725Z"
   },
   {
    "duration": 5,
    "start_time": "2024-06-18T23:59:40.738Z"
   },
   {
    "duration": 9,
    "start_time": "2024-06-18T23:59:40.746Z"
   },
   {
    "duration": 523,
    "start_time": "2024-06-18T23:59:40.758Z"
   },
   {
    "duration": 54,
    "start_time": "2024-06-18T23:59:41.284Z"
   },
   {
    "duration": 5,
    "start_time": "2024-06-18T23:59:41.341Z"
   },
   {
    "duration": 12,
    "start_time": "2024-06-18T23:59:41.352Z"
   },
   {
    "duration": 76,
    "start_time": "2024-06-18T23:59:41.367Z"
   },
   {
    "duration": 30,
    "start_time": "2024-06-18T23:59:41.446Z"
   },
   {
    "duration": 100,
    "start_time": "2024-06-18T23:59:41.479Z"
   },
   {
    "duration": 91,
    "start_time": "2024-06-18T23:59:41.586Z"
   },
   {
    "duration": 9,
    "start_time": "2024-06-18T23:59:41.680Z"
   },
   {
    "duration": 27,
    "start_time": "2024-06-18T23:59:41.693Z"
   },
   {
    "duration": 7,
    "start_time": "2024-06-18T23:59:41.723Z"
   },
   {
    "duration": 7,
    "start_time": "2024-06-18T23:59:41.733Z"
   },
   {
    "duration": 5005,
    "start_time": "2024-06-19T01:27:35.388Z"
   },
   {
    "duration": 264,
    "start_time": "2024-06-19T01:27:40.400Z"
   },
   {
    "duration": 32,
    "start_time": "2024-06-19T01:27:40.667Z"
   },
   {
    "duration": 39,
    "start_time": "2024-06-19T01:27:40.703Z"
   },
   {
    "duration": 201,
    "start_time": "2024-06-19T01:27:40.747Z"
   },
   {
    "duration": 11,
    "start_time": "2024-06-19T01:27:40.951Z"
   },
   {
    "duration": 6,
    "start_time": "2024-06-19T01:27:40.965Z"
   },
   {
    "duration": 11,
    "start_time": "2024-06-19T01:27:40.974Z"
   },
   {
    "duration": 3,
    "start_time": "2024-06-19T01:27:40.989Z"
   },
   {
    "duration": 8,
    "start_time": "2024-06-19T01:27:41.032Z"
   },
   {
    "duration": 470,
    "start_time": "2024-06-19T01:27:41.043Z"
   },
   {
    "duration": 47,
    "start_time": "2024-06-19T01:27:41.517Z"
   },
   {
    "duration": 7,
    "start_time": "2024-06-19T01:27:41.567Z"
   },
   {
    "duration": 16,
    "start_time": "2024-06-19T01:27:41.582Z"
   },
   {
    "duration": 70,
    "start_time": "2024-06-19T01:27:41.601Z"
   },
   {
    "duration": 29,
    "start_time": "2024-06-19T01:27:41.677Z"
   },
   {
    "duration": 106,
    "start_time": "2024-06-19T01:27:41.732Z"
   },
   {
    "duration": 103,
    "start_time": "2024-06-19T01:27:41.841Z"
   },
   {
    "duration": 12,
    "start_time": "2024-06-19T01:27:41.949Z"
   },
   {
    "duration": 12,
    "start_time": "2024-06-19T01:27:41.968Z"
   },
   {
    "duration": 8,
    "start_time": "2024-06-19T01:27:41.983Z"
   },
   {
    "duration": 43,
    "start_time": "2024-06-19T01:27:41.995Z"
   },
   {
    "duration": 5002,
    "start_time": "2024-06-19T01:57:30.374Z"
   },
   {
    "duration": 268,
    "start_time": "2024-06-19T01:57:35.381Z"
   },
   {
    "duration": 39,
    "start_time": "2024-06-19T01:57:35.655Z"
   },
   {
    "duration": 37,
    "start_time": "2024-06-19T01:57:35.697Z"
   },
   {
    "duration": 208,
    "start_time": "2024-06-19T01:57:35.738Z"
   },
   {
    "duration": 13,
    "start_time": "2024-06-19T01:57:35.949Z"
   },
   {
    "duration": 5,
    "start_time": "2024-06-19T01:57:35.965Z"
   },
   {
    "duration": 11,
    "start_time": "2024-06-19T01:57:35.973Z"
   },
   {
    "duration": 45,
    "start_time": "2024-06-19T01:57:35.987Z"
   },
   {
    "duration": 7,
    "start_time": "2024-06-19T01:57:36.035Z"
   },
   {
    "duration": 486,
    "start_time": "2024-06-19T01:57:36.045Z"
   },
   {
    "duration": 39,
    "start_time": "2024-06-19T01:57:36.535Z"
   },
   {
    "duration": 7,
    "start_time": "2024-06-19T01:57:36.577Z"
   },
   {
    "duration": 43,
    "start_time": "2024-06-19T01:57:36.590Z"
   },
   {
    "duration": 41,
    "start_time": "2024-06-19T01:57:36.636Z"
   },
   {
    "duration": 50,
    "start_time": "2024-06-19T01:57:36.681Z"
   },
   {
    "duration": 72,
    "start_time": "2024-06-19T01:57:36.737Z"
   },
   {
    "duration": 90,
    "start_time": "2024-06-19T01:57:36.813Z"
   },
   {
    "duration": 28,
    "start_time": "2024-06-19T01:57:36.908Z"
   },
   {
    "duration": 11,
    "start_time": "2024-06-19T01:57:36.939Z"
   },
   {
    "duration": 7,
    "start_time": "2024-06-19T01:57:36.954Z"
   },
   {
    "duration": 8,
    "start_time": "2024-06-19T01:57:36.964Z"
   },
   {
    "duration": 5,
    "start_time": "2024-06-19T02:25:52.531Z"
   },
   {
    "duration": 409,
    "start_time": "2024-06-19T02:31:29.493Z"
   },
   {
    "duration": 904,
    "start_time": "2024-06-19T02:31:40.666Z"
   },
   {
    "duration": 6,
    "start_time": "2024-06-19T02:33:02.208Z"
   },
   {
    "duration": 110,
    "start_time": "2024-06-19T02:33:03.741Z"
   },
   {
    "duration": 9,
    "start_time": "2024-06-19T02:35:37.248Z"
   },
   {
    "duration": 103,
    "start_time": "2024-06-19T02:38:14.828Z"
   },
   {
    "duration": 39,
    "start_time": "2024-06-19T02:46:43.540Z"
   },
   {
    "duration": 14,
    "start_time": "2024-06-19T02:46:54.996Z"
   },
   {
    "duration": 10,
    "start_time": "2024-06-19T02:51:37.457Z"
   },
   {
    "duration": 97,
    "start_time": "2024-06-19T02:52:54.836Z"
   },
   {
    "duration": 4860,
    "start_time": "2024-06-20T02:12:31.533Z"
   },
   {
    "duration": 274,
    "start_time": "2024-06-20T02:12:36.401Z"
   },
   {
    "duration": 43,
    "start_time": "2024-06-20T02:12:36.678Z"
   },
   {
    "duration": 19,
    "start_time": "2024-06-20T02:12:36.724Z"
   },
   {
    "duration": 201,
    "start_time": "2024-06-20T02:12:36.748Z"
   },
   {
    "duration": 12,
    "start_time": "2024-06-20T02:12:36.952Z"
   },
   {
    "duration": 4,
    "start_time": "2024-06-20T02:12:36.968Z"
   },
   {
    "duration": 12,
    "start_time": "2024-06-20T02:12:37.002Z"
   },
   {
    "duration": 4,
    "start_time": "2024-06-20T02:12:37.017Z"
   },
   {
    "duration": 9,
    "start_time": "2024-06-20T02:12:37.025Z"
   },
   {
    "duration": 523,
    "start_time": "2024-06-20T02:12:37.040Z"
   },
   {
    "duration": 52,
    "start_time": "2024-06-20T02:12:37.567Z"
   },
   {
    "duration": 5,
    "start_time": "2024-06-20T02:12:37.622Z"
   },
   {
    "duration": 11,
    "start_time": "2024-06-20T02:12:37.633Z"
   },
   {
    "duration": 77,
    "start_time": "2024-06-20T02:12:37.647Z"
   },
   {
    "duration": 36,
    "start_time": "2024-06-20T02:12:37.727Z"
   },
   {
    "duration": 92,
    "start_time": "2024-06-20T02:12:37.766Z"
   },
   {
    "duration": 91,
    "start_time": "2024-06-20T02:12:37.861Z"
   },
   {
    "duration": 11,
    "start_time": "2024-06-20T02:12:37.955Z"
   },
   {
    "duration": 32,
    "start_time": "2024-06-20T02:12:37.970Z"
   },
   {
    "duration": 7,
    "start_time": "2024-06-20T02:12:38.005Z"
   },
   {
    "duration": 6,
    "start_time": "2024-06-20T02:12:38.016Z"
   },
   {
    "duration": 111,
    "start_time": "2024-06-20T02:12:38.026Z"
   },
   {
    "duration": 15,
    "start_time": "2024-06-20T02:12:38.140Z"
   },
   {
    "duration": 6,
    "start_time": "2024-06-20T02:29:09.572Z"
   },
   {
    "duration": 100,
    "start_time": "2024-06-20T02:32:11.414Z"
   },
   {
    "duration": 52,
    "start_time": "2024-06-20T02:33:33.424Z"
   },
   {
    "duration": 39,
    "start_time": "2024-06-20T02:34:03.242Z"
   },
   {
    "duration": 397,
    "start_time": "2024-06-20T02:36:08.306Z"
   },
   {
    "duration": 34,
    "start_time": "2024-06-20T02:36:34.783Z"
   },
   {
    "duration": 119,
    "start_time": "2024-06-20T02:38:05.911Z"
   },
   {
    "duration": 83,
    "start_time": "2024-06-20T02:38:18.693Z"
   },
   {
    "duration": 97,
    "start_time": "2024-06-20T02:38:34.159Z"
   },
   {
    "duration": 78,
    "start_time": "2024-06-20T02:38:47.395Z"
   },
   {
    "duration": 83,
    "start_time": "2024-06-20T02:41:45.773Z"
   },
   {
    "duration": 46,
    "start_time": "2024-06-20T02:43:53.629Z"
   },
   {
    "duration": 81,
    "start_time": "2024-06-20T02:44:27.644Z"
   },
   {
    "duration": 1174,
    "start_time": "2024-06-20T02:44:57.469Z"
   },
   {
    "duration": 199,
    "start_time": "2024-06-20T02:44:58.647Z"
   },
   {
    "duration": 28,
    "start_time": "2024-06-20T02:44:58.849Z"
   },
   {
    "duration": 16,
    "start_time": "2024-06-20T02:44:58.901Z"
   },
   {
    "duration": 190,
    "start_time": "2024-06-20T02:44:58.920Z"
   },
   {
    "duration": 12,
    "start_time": "2024-06-20T02:44:59.113Z"
   },
   {
    "duration": 5,
    "start_time": "2024-06-20T02:44:59.128Z"
   },
   {
    "duration": 11,
    "start_time": "2024-06-20T02:44:59.136Z"
   },
   {
    "duration": 5,
    "start_time": "2024-06-20T02:44:59.150Z"
   },
   {
    "duration": 7,
    "start_time": "2024-06-20T02:44:59.207Z"
   },
   {
    "duration": 455,
    "start_time": "2024-06-20T02:44:59.217Z"
   },
   {
    "duration": 52,
    "start_time": "2024-06-20T02:44:59.676Z"
   },
   {
    "duration": 6,
    "start_time": "2024-06-20T02:44:59.731Z"
   },
   {
    "duration": 10,
    "start_time": "2024-06-20T02:44:59.740Z"
   },
   {
    "duration": 74,
    "start_time": "2024-06-20T02:44:59.753Z"
   },
   {
    "duration": 30,
    "start_time": "2024-06-20T02:44:59.833Z"
   },
   {
    "duration": 90,
    "start_time": "2024-06-20T02:44:59.866Z"
   },
   {
    "duration": 96,
    "start_time": "2024-06-20T02:44:59.960Z"
   },
   {
    "duration": 11,
    "start_time": "2024-06-20T02:45:00.059Z"
   },
   {
    "duration": 32,
    "start_time": "2024-06-20T02:45:00.074Z"
   },
   {
    "duration": 6,
    "start_time": "2024-06-20T02:45:00.109Z"
   },
   {
    "duration": 6,
    "start_time": "2024-06-20T02:45:00.119Z"
   },
   {
    "duration": 107,
    "start_time": "2024-06-20T02:45:00.128Z"
   },
   {
    "duration": 507,
    "start_time": "2024-06-20T02:45:09.004Z"
   },
   {
    "duration": 627,
    "start_time": "2024-06-20T02:47:20.143Z"
   },
   {
    "duration": 35,
    "start_time": "2024-06-20T02:48:36.878Z"
   },
   {
    "duration": 28,
    "start_time": "2024-06-20T02:49:07.837Z"
   },
   {
    "duration": 108,
    "start_time": "2024-06-20T02:50:26.014Z"
   },
   {
    "duration": 100,
    "start_time": "2024-06-20T02:50:50.982Z"
   },
   {
    "duration": 9,
    "start_time": "2024-06-20T02:50:55.035Z"
   },
   {
    "duration": 80,
    "start_time": "2024-06-20T02:51:14.354Z"
   },
   {
    "duration": 103,
    "start_time": "2024-06-20T02:52:19.998Z"
   },
   {
    "duration": 4854,
    "start_time": "2024-06-20T18:21:42.603Z"
   },
   {
    "duration": 215,
    "start_time": "2024-06-20T18:21:47.462Z"
   },
   {
    "duration": 27,
    "start_time": "2024-06-20T18:21:47.680Z"
   },
   {
    "duration": 37,
    "start_time": "2024-06-20T18:21:47.711Z"
   },
   {
    "duration": 191,
    "start_time": "2024-06-20T18:21:47.754Z"
   },
   {
    "duration": 12,
    "start_time": "2024-06-20T18:21:47.948Z"
   },
   {
    "duration": 4,
    "start_time": "2024-06-20T18:21:47.964Z"
   },
   {
    "duration": 10,
    "start_time": "2024-06-20T18:21:47.971Z"
   },
   {
    "duration": 5,
    "start_time": "2024-06-20T18:21:47.984Z"
   },
   {
    "duration": 8,
    "start_time": "2024-06-20T18:21:48.034Z"
   },
   {
    "duration": 462,
    "start_time": "2024-06-20T18:21:48.045Z"
   },
   {
    "duration": 55,
    "start_time": "2024-06-20T18:21:48.510Z"
   },
   {
    "duration": 6,
    "start_time": "2024-06-20T18:21:48.567Z"
   },
   {
    "duration": 10,
    "start_time": "2024-06-20T18:21:48.580Z"
   },
   {
    "duration": 67,
    "start_time": "2024-06-20T18:21:48.592Z"
   },
   {
    "duration": 30,
    "start_time": "2024-06-20T18:21:48.662Z"
   },
   {
    "duration": 97,
    "start_time": "2024-06-20T18:21:48.695Z"
   },
   {
    "duration": 89,
    "start_time": "2024-06-20T18:21:48.795Z"
   },
   {
    "duration": 9,
    "start_time": "2024-06-20T18:21:48.887Z"
   },
   {
    "duration": 33,
    "start_time": "2024-06-20T18:21:48.900Z"
   },
   {
    "duration": 7,
    "start_time": "2024-06-20T18:21:48.940Z"
   },
   {
    "duration": 8,
    "start_time": "2024-06-20T18:21:48.951Z"
   },
   {
    "duration": 1215,
    "start_time": "2024-06-20T18:21:55.822Z"
   },
   {
    "duration": 17,
    "start_time": "2024-06-20T18:22:23.453Z"
   },
   {
    "duration": 95,
    "start_time": "2024-06-20T18:27:38.367Z"
   },
   {
    "duration": 50,
    "start_time": "2024-06-20T18:27:47.910Z"
   },
   {
    "duration": 52,
    "start_time": "2024-06-20T18:29:50.462Z"
   },
   {
    "duration": 60,
    "start_time": "2024-06-20T18:30:20.265Z"
   },
   {
    "duration": 29,
    "start_time": "2024-06-20T18:31:06.006Z"
   },
   {
    "duration": 43,
    "start_time": "2024-06-20T18:31:40.977Z"
   },
   {
    "duration": 45,
    "start_time": "2024-06-20T18:31:54.372Z"
   },
   {
    "duration": 62,
    "start_time": "2024-06-20T18:34:08.110Z"
   },
   {
    "duration": 51,
    "start_time": "2024-06-20T18:34:24.389Z"
   },
   {
    "duration": 50,
    "start_time": "2024-06-20T18:34:58.975Z"
   },
   {
    "duration": 148,
    "start_time": "2024-06-20T18:47:55.493Z"
   },
   {
    "duration": 128,
    "start_time": "2024-06-20T18:48:50.322Z"
   },
   {
    "duration": 10,
    "start_time": "2024-06-20T18:49:19.741Z"
   },
   {
    "duration": 137,
    "start_time": "2024-06-20T18:50:01.725Z"
   },
   {
    "duration": 86,
    "start_time": "2024-06-20T18:50:18.511Z"
   },
   {
    "duration": 60,
    "start_time": "2024-06-20T18:50:31.761Z"
   },
   {
    "duration": 70,
    "start_time": "2024-06-20T18:50:54.275Z"
   },
   {
    "duration": 12,
    "start_time": "2024-06-20T18:51:02.805Z"
   },
   {
    "duration": 7,
    "start_time": "2024-06-20T18:54:50.265Z"
   },
   {
    "duration": 128,
    "start_time": "2024-06-20T18:55:12.904Z"
   },
   {
    "duration": 9,
    "start_time": "2024-06-20T19:06:04.735Z"
   },
   {
    "duration": 233,
    "start_time": "2024-06-20T19:07:18.406Z"
   },
   {
    "duration": 130,
    "start_time": "2024-06-20T19:07:53.021Z"
   },
   {
    "duration": 25,
    "start_time": "2024-06-20T19:07:59.275Z"
   },
   {
    "duration": 247,
    "start_time": "2024-06-20T19:20:09.892Z"
   },
   {
    "duration": 75,
    "start_time": "2024-06-20T19:22:33.275Z"
   },
   {
    "duration": 205,
    "start_time": "2024-06-20T19:23:14.454Z"
   },
   {
    "duration": 122,
    "start_time": "2024-06-20T19:24:22.783Z"
   },
   {
    "duration": 246,
    "start_time": "2024-06-20T19:24:46.997Z"
   },
   {
    "duration": 205,
    "start_time": "2024-06-20T19:25:07.505Z"
   },
   {
    "duration": 1235,
    "start_time": "2024-06-20T19:27:26.184Z"
   },
   {
    "duration": 209,
    "start_time": "2024-06-20T19:27:27.424Z"
   },
   {
    "duration": 28,
    "start_time": "2024-06-20T19:27:27.636Z"
   },
   {
    "duration": 18,
    "start_time": "2024-06-20T19:27:27.668Z"
   },
   {
    "duration": 208,
    "start_time": "2024-06-20T19:27:27.692Z"
   },
   {
    "duration": 29,
    "start_time": "2024-06-20T19:27:27.904Z"
   },
   {
    "duration": 6,
    "start_time": "2024-06-20T19:27:27.936Z"
   },
   {
    "duration": 12,
    "start_time": "2024-06-20T19:27:27.946Z"
   },
   {
    "duration": 5,
    "start_time": "2024-06-20T19:27:27.961Z"
   },
   {
    "duration": 7,
    "start_time": "2024-06-20T19:27:27.970Z"
   },
   {
    "duration": 540,
    "start_time": "2024-06-20T19:27:27.980Z"
   },
   {
    "duration": 42,
    "start_time": "2024-06-20T19:27:28.532Z"
   },
   {
    "duration": 5,
    "start_time": "2024-06-20T19:27:28.580Z"
   },
   {
    "duration": 42,
    "start_time": "2024-06-20T19:27:28.592Z"
   },
   {
    "duration": 40,
    "start_time": "2024-06-20T19:27:28.637Z"
   },
   {
    "duration": 70,
    "start_time": "2024-06-20T19:27:28.683Z"
   },
   {
    "duration": 132,
    "start_time": "2024-06-20T19:27:28.757Z"
   },
   {
    "duration": 91,
    "start_time": "2024-06-20T19:27:28.892Z"
   },
   {
    "duration": 12,
    "start_time": "2024-06-20T19:27:28.989Z"
   },
   {
    "duration": 30,
    "start_time": "2024-06-20T19:27:29.004Z"
   },
   {
    "duration": 7,
    "start_time": "2024-06-20T19:27:29.037Z"
   },
   {
    "duration": 7,
    "start_time": "2024-06-20T19:27:29.047Z"
   },
   {
    "duration": 557,
    "start_time": "2024-06-20T19:27:29.058Z"
   },
   {
    "duration": 0,
    "start_time": "2024-06-20T19:27:29.617Z"
   },
   {
    "duration": 0,
    "start_time": "2024-06-20T19:27:29.619Z"
   },
   {
    "duration": 0,
    "start_time": "2024-06-20T19:27:29.621Z"
   },
   {
    "duration": 0,
    "start_time": "2024-06-20T19:27:29.633Z"
   },
   {
    "duration": 64,
    "start_time": "2024-06-20T19:27:37.007Z"
   },
   {
    "duration": 4,
    "start_time": "2024-06-20T19:27:59.859Z"
   },
   {
    "duration": 186,
    "start_time": "2024-06-20T19:27:59.874Z"
   },
   {
    "duration": 27,
    "start_time": "2024-06-20T19:28:00.063Z"
   },
   {
    "duration": 38,
    "start_time": "2024-06-20T19:28:00.096Z"
   },
   {
    "duration": 182,
    "start_time": "2024-06-20T19:28:00.140Z"
   },
   {
    "duration": 12,
    "start_time": "2024-06-20T19:28:00.332Z"
   },
   {
    "duration": 4,
    "start_time": "2024-06-20T19:28:00.347Z"
   },
   {
    "duration": 9,
    "start_time": "2024-06-20T19:28:00.354Z"
   },
   {
    "duration": 5,
    "start_time": "2024-06-20T19:28:00.366Z"
   },
   {
    "duration": 60,
    "start_time": "2024-06-20T19:28:00.373Z"
   },
   {
    "duration": 454,
    "start_time": "2024-06-20T19:28:00.436Z"
   },
   {
    "duration": 50,
    "start_time": "2024-06-20T19:28:00.893Z"
   },
   {
    "duration": 6,
    "start_time": "2024-06-20T19:28:00.946Z"
   },
   {
    "duration": 10,
    "start_time": "2024-06-20T19:28:00.955Z"
   },
   {
    "duration": 74,
    "start_time": "2024-06-20T19:28:00.973Z"
   },
   {
    "duration": 31,
    "start_time": "2024-06-20T19:28:01.051Z"
   },
   {
    "duration": 94,
    "start_time": "2024-06-20T19:28:01.085Z"
   },
   {
    "duration": 93,
    "start_time": "2024-06-20T19:28:01.182Z"
   },
   {
    "duration": 11,
    "start_time": "2024-06-20T19:28:01.278Z"
   },
   {
    "duration": 21,
    "start_time": "2024-06-20T19:28:01.294Z"
   },
   {
    "duration": 21,
    "start_time": "2024-06-20T19:28:01.319Z"
   },
   {
    "duration": 9,
    "start_time": "2024-06-20T19:28:01.344Z"
   },
   {
    "duration": 77,
    "start_time": "2024-06-20T19:28:01.356Z"
   },
   {
    "duration": 1,
    "start_time": "2024-06-20T19:28:01.437Z"
   },
   {
    "duration": 0,
    "start_time": "2024-06-20T19:28:01.441Z"
   },
   {
    "duration": 0,
    "start_time": "2024-06-20T19:28:01.444Z"
   },
   {
    "duration": 0,
    "start_time": "2024-06-20T19:28:01.446Z"
   },
   {
    "duration": 59,
    "start_time": "2024-06-20T19:28:11.156Z"
   },
   {
    "duration": 54,
    "start_time": "2024-06-20T19:28:15.121Z"
   },
   {
    "duration": 4,
    "start_time": "2024-06-20T19:28:27.538Z"
   },
   {
    "duration": 201,
    "start_time": "2024-06-20T19:28:27.546Z"
   },
   {
    "duration": 29,
    "start_time": "2024-06-20T19:28:27.750Z"
   },
   {
    "duration": 17,
    "start_time": "2024-06-20T19:28:27.783Z"
   },
   {
    "duration": 176,
    "start_time": "2024-06-20T19:28:27.832Z"
   },
   {
    "duration": 21,
    "start_time": "2024-06-20T19:28:28.012Z"
   },
   {
    "duration": 5,
    "start_time": "2024-06-20T19:28:28.037Z"
   },
   {
    "duration": 10,
    "start_time": "2024-06-20T19:28:28.045Z"
   },
   {
    "duration": 4,
    "start_time": "2024-06-20T19:28:28.058Z"
   },
   {
    "duration": 7,
    "start_time": "2024-06-20T19:28:28.071Z"
   },
   {
    "duration": 498,
    "start_time": "2024-06-20T19:28:28.080Z"
   },
   {
    "duration": 57,
    "start_time": "2024-06-20T19:28:28.581Z"
   },
   {
    "duration": 5,
    "start_time": "2024-06-20T19:28:28.642Z"
   },
   {
    "duration": 9,
    "start_time": "2024-06-20T19:28:28.650Z"
   },
   {
    "duration": 71,
    "start_time": "2024-06-20T19:28:28.662Z"
   },
   {
    "duration": 31,
    "start_time": "2024-06-20T19:28:28.736Z"
   },
   {
    "duration": 104,
    "start_time": "2024-06-20T19:28:28.769Z"
   },
   {
    "duration": 90,
    "start_time": "2024-06-20T19:28:28.876Z"
   },
   {
    "duration": 11,
    "start_time": "2024-06-20T19:28:28.969Z"
   },
   {
    "duration": 10,
    "start_time": "2024-06-20T19:28:28.983Z"
   },
   {
    "duration": 37,
    "start_time": "2024-06-20T19:28:28.996Z"
   },
   {
    "duration": 6,
    "start_time": "2024-06-20T19:28:29.036Z"
   },
   {
    "duration": 30,
    "start_time": "2024-06-20T19:28:29.046Z"
   },
   {
    "duration": 0,
    "start_time": "2024-06-20T19:28:29.079Z"
   },
   {
    "duration": 0,
    "start_time": "2024-06-20T19:28:29.081Z"
   },
   {
    "duration": 0,
    "start_time": "2024-06-20T19:28:29.082Z"
   },
   {
    "duration": 0,
    "start_time": "2024-06-20T19:28:29.084Z"
   },
   {
    "duration": 0,
    "start_time": "2024-06-20T19:28:29.086Z"
   },
   {
    "duration": 1196,
    "start_time": "2024-06-20T19:28:48.072Z"
   },
   {
    "duration": 210,
    "start_time": "2024-06-20T19:28:49.273Z"
   },
   {
    "duration": 27,
    "start_time": "2024-06-20T19:28:49.486Z"
   },
   {
    "duration": 17,
    "start_time": "2024-06-20T19:28:49.532Z"
   },
   {
    "duration": 188,
    "start_time": "2024-06-20T19:28:49.554Z"
   },
   {
    "duration": 13,
    "start_time": "2024-06-20T19:28:49.745Z"
   },
   {
    "duration": 5,
    "start_time": "2024-06-20T19:28:49.761Z"
   },
   {
    "duration": 11,
    "start_time": "2024-06-20T19:28:49.769Z"
   },
   {
    "duration": 50,
    "start_time": "2024-06-20T19:28:49.782Z"
   },
   {
    "duration": 8,
    "start_time": "2024-06-20T19:28:49.835Z"
   },
   {
    "duration": 453,
    "start_time": "2024-06-20T19:28:49.845Z"
   },
   {
    "duration": 47,
    "start_time": "2024-06-20T19:28:50.302Z"
   },
   {
    "duration": 6,
    "start_time": "2024-06-20T19:28:50.352Z"
   },
   {
    "duration": 10,
    "start_time": "2024-06-20T19:28:50.364Z"
   },
   {
    "duration": 71,
    "start_time": "2024-06-20T19:28:50.377Z"
   },
   {
    "duration": 30,
    "start_time": "2024-06-20T19:28:50.451Z"
   },
   {
    "duration": 95,
    "start_time": "2024-06-20T19:28:50.484Z"
   },
   {
    "duration": 88,
    "start_time": "2024-06-20T19:28:50.582Z"
   },
   {
    "duration": 10,
    "start_time": "2024-06-20T19:28:50.673Z"
   },
   {
    "duration": 9,
    "start_time": "2024-06-20T19:28:50.686Z"
   },
   {
    "duration": 39,
    "start_time": "2024-06-20T19:28:50.698Z"
   },
   {
    "duration": 6,
    "start_time": "2024-06-20T19:28:50.741Z"
   },
   {
    "duration": 515,
    "start_time": "2024-06-20T19:28:50.751Z"
   },
   {
    "duration": 0,
    "start_time": "2024-06-20T19:28:51.269Z"
   },
   {
    "duration": 0,
    "start_time": "2024-06-20T19:28:51.271Z"
   },
   {
    "duration": 0,
    "start_time": "2024-06-20T19:28:51.275Z"
   },
   {
    "duration": 0,
    "start_time": "2024-06-20T19:28:51.277Z"
   },
   {
    "duration": 0,
    "start_time": "2024-06-20T19:28:51.280Z"
   },
   {
    "duration": 923,
    "start_time": "2024-06-20T19:29:36.282Z"
   },
   {
    "duration": 129,
    "start_time": "2024-06-20T19:30:12.738Z"
   },
   {
    "duration": 10,
    "start_time": "2024-06-20T19:30:19.178Z"
   },
   {
    "duration": 6,
    "start_time": "2024-06-20T19:30:23.569Z"
   },
   {
    "duration": 122,
    "start_time": "2024-06-20T19:30:26.473Z"
   },
   {
    "duration": 237,
    "start_time": "2024-06-20T19:30:34.686Z"
   },
   {
    "duration": 204,
    "start_time": "2024-06-20T19:30:44.359Z"
   },
   {
    "duration": 5046,
    "start_time": "2024-06-21T19:57:21.840Z"
   },
   {
    "duration": 230,
    "start_time": "2024-06-21T19:57:26.890Z"
   },
   {
    "duration": 27,
    "start_time": "2024-06-21T19:57:27.123Z"
   },
   {
    "duration": 16,
    "start_time": "2024-06-21T19:57:27.155Z"
   },
   {
    "duration": 216,
    "start_time": "2024-06-21T19:57:27.175Z"
   },
   {
    "duration": 12,
    "start_time": "2024-06-21T19:57:27.395Z"
   },
   {
    "duration": 6,
    "start_time": "2024-06-21T19:57:27.422Z"
   },
   {
    "duration": 11,
    "start_time": "2024-06-21T19:57:27.431Z"
   },
   {
    "duration": 3,
    "start_time": "2024-06-21T19:57:27.446Z"
   },
   {
    "duration": 7,
    "start_time": "2024-06-21T19:57:27.456Z"
   },
   {
    "duration": 527,
    "start_time": "2024-06-21T19:57:27.466Z"
   },
   {
    "duration": 52,
    "start_time": "2024-06-21T19:57:27.997Z"
   },
   {
    "duration": 4,
    "start_time": "2024-06-21T19:57:28.054Z"
   },
   {
    "duration": 11,
    "start_time": "2024-06-21T19:57:28.061Z"
   },
   {
    "duration": 72,
    "start_time": "2024-06-21T19:57:28.074Z"
   },
   {
    "duration": 31,
    "start_time": "2024-06-21T19:57:28.148Z"
   },
   {
    "duration": 97,
    "start_time": "2024-06-21T19:57:28.183Z"
   },
   {
    "duration": 92,
    "start_time": "2024-06-21T19:57:28.284Z"
   },
   {
    "duration": 10,
    "start_time": "2024-06-21T19:57:28.382Z"
   },
   {
    "duration": 28,
    "start_time": "2024-06-21T19:57:28.395Z"
   },
   {
    "duration": 7,
    "start_time": "2024-06-21T19:57:28.427Z"
   },
   {
    "duration": 9,
    "start_time": "2024-06-21T19:57:28.438Z"
   },
   {
    "duration": 154,
    "start_time": "2024-06-21T19:57:28.450Z"
   },
   {
    "duration": 19,
    "start_time": "2024-06-21T19:57:28.609Z"
   },
   {
    "duration": 14,
    "start_time": "2024-06-21T19:57:28.635Z"
   },
   {
    "duration": 169,
    "start_time": "2024-06-21T19:57:28.653Z"
   },
   {
    "duration": 255,
    "start_time": "2024-06-21T19:57:28.827Z"
   },
   {
    "duration": 221,
    "start_time": "2024-06-21T19:57:29.088Z"
   }
  ],
  "kernelspec": {
   "display_name": "Python 3 (ipykernel)",
   "language": "python",
   "name": "python3"
  },
  "language_info": {
   "codemirror_mode": {
    "name": "ipython",
    "version": 3
   },
   "file_extension": ".py",
   "mimetype": "text/x-python",
   "name": "python",
   "nbconvert_exporter": "python",
   "pygments_lexer": "ipython3",
   "version": "3.9.19"
  },
  "toc": {
   "base_numbering": 1,
   "nav_menu": {},
   "number_sections": true,
   "sideBar": true,
   "skip_h1_title": true,
   "title_cell": "Table of Contents",
   "title_sidebar": "Contents",
   "toc_cell": false,
   "toc_position": {
    "height": "calc(100% - 180px)",
    "left": "10px",
    "top": "150px",
    "width": "165px"
   },
   "toc_section_display": true,
   "toc_window_display": true
  }
 },
 "nbformat": 4,
 "nbformat_minor": 2
}
